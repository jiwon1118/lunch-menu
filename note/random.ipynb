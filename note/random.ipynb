{
 "cells": [
  {
   "cell_type": "code",
   "execution_count": 57,
   "id": "64f5cb1c-63bf-43d7-824c-0ba770284684",
   "metadata": {},
   "outputs": [],
   "source": [
    "members = {\"SEO\": 5, \"TOM\": 1, \"cho\": 2, \"hyun\": 3, \"nuni\": 10, \"JERRY\": 4, \"jacob\": 7, \"jiwon\": 6, \"lucas\": 9, \"heejin\": 8}"
   ]
  },
  {
   "cell_type": "code",
   "execution_count": 58,
   "id": "f63074a1-5e10-4e9b-9b5c-0bc8b056b10d",
   "metadata": {},
   "outputs": [
    {
     "data": {
      "text/plain": [
       "10"
      ]
     },
     "execution_count": 58,
     "metadata": {},
     "output_type": "execute_result"
    }
   ],
   "source": [
    "name = list(members.keys())\n",
    "len(name)"
   ]
  },
  {
   "cell_type": "markdown",
   "id": "fb3e4f23-46cb-40ed-a698-509c57f82e2f",
   "metadata": {},
   "source": [
    "list.pop()을 사용해서 중복 없이 랜덤하게 발표자 뽑기"
   ]
  },
  {
   "cell_type": "code",
   "execution_count": 47,
   "id": "f8615cf8-a060-44b2-9e13-11ceebd7df9f",
   "metadata": {},
   "outputs": [],
   "source": [
    "import random"
   ]
  },
  {
   "cell_type": "code",
   "execution_count": 59,
   "id": "3fbf1540-b4e3-4284-922e-8a5abbc8d149",
   "metadata": {},
   "outputs": [],
   "source": [
    "random.shuffle(name)"
   ]
  },
  {
   "cell_type": "code",
   "execution_count": 60,
   "id": "e01d217d-7773-47c6-8d46-72cfdace1565",
   "metadata": {},
   "outputs": [
    {
     "data": {
      "text/plain": [
       "'cho'"
      ]
     },
     "execution_count": 60,
     "metadata": {},
     "output_type": "execute_result"
    }
   ],
   "source": [
    "name.pop()"
   ]
  },
  {
   "cell_type": "code",
   "execution_count": null,
   "id": "9bb41433-2f36-42ac-aa2b-1c897c0f0248",
   "metadata": {},
   "outputs": [],
   "source": []
  }
 ],
 "metadata": {
  "kernelspec": {
   "display_name": "Python 3 (ipykernel)",
   "language": "python",
   "name": "python3"
  },
  "language_info": {
   "codemirror_mode": {
    "name": "ipython",
    "version": 3
   },
   "file_extension": ".py",
   "mimetype": "text/x-python",
   "name": "python",
   "nbconvert_exporter": "python",
   "pygments_lexer": "ipython3",
   "version": "3.10.12"
  }
 },
 "nbformat": 4,
 "nbformat_minor": 5
}
