{
 "cells": [
  {
   "cell_type": "code",
   "execution_count": 1,
   "id": "93be3838-5f86-4ab1-a67b-39b6eb4e0e2c",
   "metadata": {},
   "outputs": [],
   "source": [
    "import psycopg"
   ]
  },
  {
   "cell_type": "code",
   "execution_count": 12,
   "id": "75e2cb3b-9222-4839-8adb-c8abe875e76a",
   "metadata": {},
   "outputs": [],
   "source": [
    "# history | grep docker | grep run\n",
    "DB_CONFIG = {\n",
    "    \"dbname\": \"sunsindb\",\n",
    "    \"user\": \"sunsin\",\n",
    "    \"password\": \"mysecretpassword\",\n",
    "    \"host\": \"localhost\",\n",
    "    \"port\": \"5432\"\n",
    "}"
   ]
  },
  {
   "cell_type": "code",
   "execution_count": 13,
   "id": "6c9903d0-0e72-4e55-b0b0-ddb65a0a86b0",
   "metadata": {},
   "outputs": [
    {
     "data": {
      "text/plain": [
       "<psycopg.Connection [IDLE] (host=localhost user=sunsin database=sunsindb) at 0xff3358a816f0>"
      ]
     },
     "execution_count": 13,
     "metadata": {},
     "output_type": "execute_result"
    }
   ],
   "source": [
    "# 확인하기\n",
    "psycopg.connect(**DB_CONFIG)"
   ]
  },
  {
   "cell_type": "code",
   "execution_count": 25,
   "id": "3ee80592-e2e2-4980-9635-abe40b96831c",
   "metadata": {},
   "outputs": [],
   "source": [
    "def get_connection():\n",
    "    return psycopg.connect(**DB_CONFIG)"
   ]
  },
  {
   "cell_type": "code",
   "execution_count": 26,
   "id": "48007e6e-c3cf-4ed0-a272-27571d700a1c",
   "metadata": {},
   "outputs": [],
   "source": [
    "conn = get_connection()"
   ]
  },
  {
   "cell_type": "code",
   "execution_count": 27,
   "id": "e57c8797-6231-49a9-8c9a-5742e0936f8f",
   "metadata": {},
   "outputs": [],
   "source": [
    "cursor = conn.cursor()"
   ]
  },
  {
   "cell_type": "code",
   "execution_count": 28,
   "id": "1ff0a675-19fe-4d97-9738-d83ffe6df85e",
   "metadata": {},
   "outputs": [
    {
     "data": {
      "text/plain": [
       "<psycopg.Cursor [COMMAND_OK] [INTRANS] (host=localhost user=sunsin database=sunsindb) at 0xff3358a10670>"
      ]
     },
     "execution_count": 28,
     "metadata": {},
     "output_type": "execute_result"
    }
   ],
   "source": [
    "cursor.execute(\n",
    "    \"INSERT INTO lunch_menu (menu_name, member_name, dt) VALUES (%s, %s, %s);\",\n",
    "    ('테스트음식','테스트멤버','2000-11-11')\n",
    ")"
   ]
  },
  {
   "cell_type": "code",
   "execution_count": 29,
   "id": "3e28189e-4884-4210-b03b-f7e95a2b9a2f",
   "metadata": {},
   "outputs": [],
   "source": [
    "conn.commit()  "
   ]
  },
  {
   "cell_type": "code",
   "execution_count": 30,
   "id": "6d130185-6788-42a2-a4f9-36a8231a31ce",
   "metadata": {},
   "outputs": [],
   "source": [
    "conn.close()  # 작업이 다 끝나면 close"
   ]
  },
  {
   "cell_type": "code",
   "execution_count": null,
   "id": "a90d36ca-75fe-419f-9db1-6dff9e6cec82",
   "metadata": {},
   "outputs": [],
   "source": []
  }
 ],
 "metadata": {
  "kernelspec": {
   "display_name": "Python 3 (ipykernel)",
   "language": "python",
   "name": "python3"
  },
  "language_info": {
   "codemirror_mode": {
    "name": "ipython",
    "version": 3
   },
   "file_extension": ".py",
   "mimetype": "text/x-python",
   "name": "python",
   "nbconvert_exporter": "python",
   "pygments_lexer": "ipython3",
   "version": "3.10.12"
  }
 },
 "nbformat": 4,
 "nbformat_minor": 5
}
