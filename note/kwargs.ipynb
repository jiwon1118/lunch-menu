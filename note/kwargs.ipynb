{
 "cells": [
  {
   "cell_type": "code",
   "execution_count": 90,
   "id": "e1e370b1-1236-41b9-9159-a2ddcdff741a",
   "metadata": {},
   "outputs": [],
   "source": [
    "def fun_args(args):\n",
    "    print(f\"args...\")"
   ]
  },
  {
   "cell_type": "code",
   "execution_count": 8,
   "id": "eaba25a1-4cee-4abf-87d0-4b9cc7ca2d3b",
   "metadata": {
    "scrolled": true
   },
   "outputs": [
    {
     "ename": "TypeError",
     "evalue": "fun_args() missing 1 required positional argument: 'args'",
     "output_type": "error",
     "traceback": [
      "\u001b[0;31m---------------------------------------------------------------------------\u001b[0m",
      "\u001b[0;31mTypeError\u001b[0m                                 Traceback (most recent call last)",
      "Cell \u001b[0;32mIn[8], line 1\u001b[0m\n\u001b[0;32m----> 1\u001b[0m \u001b[43mfun_args\u001b[49m\u001b[43m(\u001b[49m\u001b[43m)\u001b[49m\n",
      "\u001b[0;31mTypeError\u001b[0m: fun_args() missing 1 required positional argument: 'args'"
     ]
    }
   ],
   "source": [
    "fun_args()  # 값을 꼭 입력 해야함"
   ]
  },
  {
   "cell_type": "code",
   "execution_count": 43,
   "id": "ebe3c785-9f31-4c4e-866e-a8e4e923091b",
   "metadata": {},
   "outputs": [],
   "source": [
    "# *가변인자\n",
    "def fun_args(*args):\n",
    "    print(f\"args...{type(args)}\")\n",
    "    for i in args:\n",
    "        print(i)"
   ]
  },
  {
   "cell_type": "code",
   "execution_count": 44,
   "id": "16245fe0-3301-49aa-b4bf-b72cb507f3a5",
   "metadata": {},
   "outputs": [
    {
     "name": "stdout",
     "output_type": "stream",
     "text": [
      "args...<class 'tuple'>\n"
     ]
    }
   ],
   "source": [
    "fun_args()   # 가변인자이기 때문에 값이 없어서 됨 "
   ]
  },
  {
   "cell_type": "code",
   "execution_count": 14,
   "id": "527b0322-d644-4a65-8df5-8d0198cc88dd",
   "metadata": {},
   "outputs": [
    {
     "name": "stdout",
     "output_type": "stream",
     "text": [
      "args...<class 'tuple'>\n",
      "1\n",
      "2\n",
      "3\n"
     ]
    }
   ],
   "source": [
    "fun_args(1,2,3)"
   ]
  },
  {
   "cell_type": "code",
   "execution_count": 35,
   "id": "0390e67a-7e62-460a-a011-374a5377c152",
   "metadata": {},
   "outputs": [],
   "source": [
    "# ** 키워드 가변인자  - (*args, **kwargs) 는 가능하지만 반대는 불가능 **kwargs는 항상 마지막에 써야함\n",
    "def fun_kwargs(**kwargs):\n",
    "    print(f\"kwargs...{type(kwargs)}\")\n",
    "    for i in kwargs.keys():\n",
    "        print(f\"key:{i}, value:{kwargs.get(i)}\")"
   ]
  },
  {
   "cell_type": "code",
   "execution_count": 37,
   "id": "9c252f88-d07a-404a-8a3e-78da86bbf2a6",
   "metadata": {},
   "outputs": [],
   "source": [
    "def fun_kwargs(**kwargs):\n",
    "    print(f\"kwargs...{type(kwargs)}\")\n",
    "    for i,j in kwargs.items():\n",
    "        print(f\"key:{i}, value:{j}\")"
   ]
  },
  {
   "cell_type": "code",
   "execution_count": 33,
   "id": "26fc2c01-2c13-4fa8-8dd8-cd1a4b778849",
   "metadata": {},
   "outputs": [
    {
     "name": "stdout",
     "output_type": "stream",
     "text": [
      "kwargs...<class 'dict'>\n"
     ]
    }
   ],
   "source": [
    "fun_kwargs()"
   ]
  },
  {
   "cell_type": "code",
   "execution_count": 38,
   "id": "da8050ff-8f02-42ee-8ee4-b8b01942146c",
   "metadata": {},
   "outputs": [
    {
     "name": "stdout",
     "output_type": "stream",
     "text": [
      "kwargs...<class 'dict'>\n",
      "key:dbname, value:sunsindb\n",
      "key:user, value:susin\n",
      "key:abc, value:aaa\n"
     ]
    }
   ],
   "source": [
    "fun_kwargs(dbname = \"sunsindb\", user = \"susin\", abc = \"aaa\")"
   ]
  },
  {
   "cell_type": "code",
   "execution_count": 39,
   "id": "edcdbab9-e7ca-4774-a0bc-8c7d70c266ac",
   "metadata": {},
   "outputs": [],
   "source": [
    "DB_CONFIG = {\n",
    "    \"dbname\": \"sunsindb\",\n",
    "    \"user\": \"sunsin\",\n",
    "    \"password\": \"mysecretpassword\",\n",
    "    \"host\": \"localhost\",\n",
    "    \"port\": \"5432\"\n",
    "}"
   ]
  },
  {
   "cell_type": "code",
   "execution_count": 40,
   "id": "b224be05-453f-45d0-91ef-4790d641f83d",
   "metadata": {},
   "outputs": [
    {
     "ename": "TypeError",
     "evalue": "fun_kwargs() takes 0 positional arguments but 1 was given",
     "output_type": "error",
     "traceback": [
      "\u001b[0;31m---------------------------------------------------------------------------\u001b[0m",
      "\u001b[0;31mTypeError\u001b[0m                                 Traceback (most recent call last)",
      "Cell \u001b[0;32mIn[40], line 1\u001b[0m\n\u001b[0;32m----> 1\u001b[0m \u001b[43mfun_kwargs\u001b[49m\u001b[43m(\u001b[49m\u001b[43mDB_CONFIG\u001b[49m\u001b[43m)\u001b[49m\n",
      "\u001b[0;31mTypeError\u001b[0m: fun_kwargs() takes 0 positional arguments but 1 was given"
     ]
    }
   ],
   "source": [
    "fun_kwargs(DB_CONFIG) # 이건 실행 불가능"
   ]
  },
  {
   "cell_type": "code",
   "execution_count": 41,
   "id": "92b2e1f7-cbe8-449e-9a0a-39e11df69593",
   "metadata": {},
   "outputs": [
    {
     "name": "stdout",
     "output_type": "stream",
     "text": [
      "kwargs...<class 'dict'>\n",
      "key:dbname, value:sunsindb\n",
      "key:user, value:sunsin\n",
      "key:password, value:mysecretpassword\n",
      "key:host, value:localhost\n",
      "key:port, value:5432\n"
     ]
    }
   ],
   "source": [
    "fun_kwargs(**DB_CONFIG)"
   ]
  },
  {
   "cell_type": "code",
   "execution_count": 45,
   "id": "5dc4ea45-1779-4f4e-9981-1f0ec207ef36",
   "metadata": {},
   "outputs": [],
   "source": [
    "def fun_jjamppong(name, *args, **kwargs):\n",
    "    print(f\"jjamppong...{type(name)}, {type(args)}, {type(kwargs)}\")"
   ]
  },
  {
   "cell_type": "code",
   "execution_count": 88,
   "id": "7f630566-4551-473a-a40f-b042c952014c",
   "metadata": {},
   "outputs": [],
   "source": [
    "def fun_jjamppong(name, *args, **kwargs):\n",
    "    print(f\"jjamppong...{type(name)}, {type(args)}, {type(kwargs)}\")\n",
    "    print(name)\n",
    "    # args\n",
    "    print(args)\n",
    "    for t in range(len(args)):\n",
    "        print(args[t])\n",
    "    # kwargs\n",
    "    for i,j in kwargs.items():\n",
    "        print(f\"key:{i}, value:{j}\")"
   ]
  },
  {
   "cell_type": "code",
   "execution_count": 89,
   "id": "9e5d78a9-c9d5-43d7-be6c-1f62d6f3358a",
   "metadata": {},
   "outputs": [
    {
     "name": "stdout",
     "output_type": "stream",
     "text": [
      "jjamppong...<class 'int'>, <class 'tuple'>, <class 'dict'>\n",
      "1\n",
      "('A', 'B')\n",
      "A\n",
      "B\n",
      "key:menu, value:a\n",
      "key:food, value:b\n"
     ]
    }
   ],
   "source": [
    "fun_jjamppong(1,\"A\",\"B\",menu=\"a\",food=\"b\")"
   ]
  },
  {
   "cell_type": "code",
   "execution_count": null,
   "id": "aef01def-5834-45a8-86ed-e5725a71c156",
   "metadata": {},
   "outputs": [],
   "source": []
  }
 ],
 "metadata": {
  "kernelspec": {
   "display_name": "Python 3 (ipykernel)",
   "language": "python",
   "name": "python3"
  },
  "language_info": {
   "codemirror_mode": {
    "name": "ipython",
    "version": 3
   },
   "file_extension": ".py",
   "mimetype": "text/x-python",
   "name": "python",
   "nbconvert_exporter": "python",
   "pygments_lexer": "ipython3",
   "version": "3.10.12"
  }
 },
 "nbformat": 4,
 "nbformat_minor": 5
}
