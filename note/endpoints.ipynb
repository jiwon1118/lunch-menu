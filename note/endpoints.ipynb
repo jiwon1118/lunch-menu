{
 "cells": [
  {
   "cell_type": "code",
   "execution_count": 1,
   "id": "cca7de64-dd25-4baa-aff3-589ea2e805e8",
   "metadata": {},
   "outputs": [],
   "source": [
    "import pandas as pd\n",
    "import requests"
   ]
  },
  {
   "cell_type": "code",
   "execution_count": 3,
   "id": "3566f0d6-4e6c-4e8a-97fa-10a60c03de0c",
   "metadata": {},
   "outputs": [],
   "source": [
    "ep = \"https://raw.githubusercontent.com/ppabam/nextjs-fastapi-starter/refs/heads/main/endpoints.json\""
   ]
  },
  {
   "cell_type": "code",
   "execution_count": 4,
   "id": "58159afc-dbd2-4173-a223-ad0f9440946c",
   "metadata": {},
   "outputs": [],
   "source": [
    "res = requests.get(ep)"
   ]
  },
  {
   "cell_type": "code",
   "execution_count": 5,
   "id": "c4ea3d1f-c37d-473c-85d5-c00f5fddaf6c",
   "metadata": {},
   "outputs": [
    {
     "data": {
      "text/plain": [
       "200"
      ]
     },
     "execution_count": 5,
     "metadata": {},
     "output_type": "execute_result"
    }
   ],
   "source": [
    "res.status_code"
   ]
  },
  {
   "cell_type": "code",
   "execution_count": 6,
   "id": "2c8777c4-b59b-4e64-aadb-87d8d640bcd8",
   "metadata": {},
   "outputs": [
    {
     "data": {
      "text/plain": [
       "'utf-8'"
      ]
     },
     "execution_count": 6,
     "metadata": {},
     "output_type": "execute_result"
    }
   ],
   "source": [
    "res.encoding"
   ]
  },
  {
   "cell_type": "code",
   "execution_count": 7,
   "id": "2432f293-630b-46a4-8269-f7b49cebf9bb",
   "metadata": {},
   "outputs": [
    {
     "data": {
      "text/plain": [
       "'{\\n    \"endpoints\": [\\n      {\"name\": \"TOM\",\"url\": \"https://ac.sunsin.shop/api/py/select_all\"},\\n      {\"name\": \"jiwon\",\"url\": \"https://agecal.wodan10.shop/api/py/select_all\"},\\n      {\"name\": \"heejin\",\"url\": \"https://age.journeyjean.shop/api/py/select_all\"}, \\n      {\"name\": \"hyun\",\"url\": \"https://agecalculator.calcalhan.store/api/py/select_all\"},\\n      {\"name\": \"cho\",\"url\": \"https://nextjs-fastapi-starter-5j3bemub7-chominkyus-projects.vercel.app/api/py/select_all\"},\\n      {\"name\": \"jacob\",\"url\": \"https://jacob0503.vercel.app/api/py/select_table\"},\\n      {\"name\": \"nuni\",\"url\": \"https://ac.nunininu.shop/api/py/select_all\"},\\n      {\"name\": \"lucas\",\"url\": \"https://ac.lucas12.store/api/py/select_all\"},\\n      {\"name\": \"SEO\",\"url\":\"https://ac.seo-sigma.shop/api/py/select_all\"},\\n      {\"name\": \"JERRY\", \"url\": \"https://jooon.vercel.app/api/py/select_all\"}\\n    ]\\n}\\n  \\n'"
      ]
     },
     "execution_count": 7,
     "metadata": {},
     "output_type": "execute_result"
    }
   ],
   "source": [
    "res.text"
   ]
  },
  {
   "cell_type": "code",
   "execution_count": 8,
   "id": "8e28b73f-7d11-49fe-93fe-01e91be64b42",
   "metadata": {},
   "outputs": [],
   "source": [
    "data = res.json()"
   ]
  },
  {
   "cell_type": "code",
   "execution_count": 11,
   "id": "b17ea6b3",
   "metadata": {},
   "outputs": [
    {
     "data": {
      "text/plain": [
       "dict"
      ]
     },
     "execution_count": 11,
     "metadata": {},
     "output_type": "execute_result"
    }
   ],
   "source": [
    "type(data)"
   ]
  },
  {
   "cell_type": "code",
   "execution_count": 12,
   "id": "84cc471f-04c9-499d-999f-c2cc6f830b68",
   "metadata": {},
   "outputs": [
    {
     "data": {
      "text/plain": [
       "list"
      ]
     },
     "execution_count": 12,
     "metadata": {},
     "output_type": "execute_result"
    }
   ],
   "source": [
    "endpoints = data['endpoints']\n",
    "type(endpoints)"
   ]
  },
  {
   "cell_type": "code",
   "execution_count": 16,
   "id": "f22f7c94-3173-4c7f-a76a-2f6b471531b8",
   "metadata": {},
   "outputs": [
    {
     "name": "stdout",
     "output_type": "stream",
     "text": [
      "{'name': 'TOM', 'url': 'https://ac.sunsin.shop/api/py/select_all'}\n",
      "{'name': 'jiwon', 'url': 'https://agecal.wodan10.shop/api/py/select_all'}\n",
      "{'name': 'heejin', 'url': 'https://age.journeyjean.shop/api/py/select_all'}\n",
      "{'name': 'hyun', 'url': 'https://agecalculator.calcalhan.store/api/py/select_all'}\n",
      "{'name': 'cho', 'url': 'https://nextjs-fastapi-starter-5j3bemub7-chominkyus-projects.vercel.app/api/py/select_all'}\n",
      "{'name': 'jacob', 'url': 'https://jacob0503.vercel.app/api/py/select_table'}\n",
      "{'name': 'nuni', 'url': 'https://ac.nunininu.shop/api/py/select_all'}\n",
      "{'name': 'lucas', 'url': 'https://ac.lucas12.store/api/py/select_all'}\n",
      "{'name': 'SEO', 'url': 'https://ac.seo-sigma.shop/api/py/select_all'}\n",
      "{'name': 'JERRY', 'url': 'https://jooon.vercel.app/api/py/select_all'}\n"
     ]
    }
   ],
   "source": [
    "for p in endpoints:\n",
    "    print(p)"
   ]
  },
  {
   "cell_type": "code",
   "execution_count": 18,
   "id": "04f034bb",
   "metadata": {},
   "outputs": [
    {
     "name": "stdout",
     "output_type": "stream",
     "text": [
      "TOM, https://ac.sunsin.shop/api/py/select_all\n",
      "jiwon, https://agecal.wodan10.shop/api/py/select_all\n",
      "heejin, https://age.journeyjean.shop/api/py/select_all\n",
      "hyun, https://agecalculator.calcalhan.store/api/py/select_all\n",
      "cho, https://nextjs-fastapi-starter-5j3bemub7-chominkyus-projects.vercel.app/api/py/select_all\n",
      "jacob, https://jacob0503.vercel.app/api/py/select_table\n",
      "nuni, https://ac.nunininu.shop/api/py/select_all\n",
      "lucas, https://ac.lucas12.store/api/py/select_all\n",
      "SEO, https://ac.seo-sigma.shop/api/py/select_all\n",
      "JERRY, https://jooon.vercel.app/api/py/select_all\n"
     ]
    }
   ],
   "source": [
    "for p in endpoints:\n",
    "    print(f\"{p['name']}, {p['url']}\")"
   ]
  },
  {
   "cell_type": "code",
   "execution_count": 15,
   "id": "25805760",
   "metadata": {},
   "outputs": [
    {
     "name": "stdout",
     "output_type": "stream",
     "text": [
      "{'name': 'TOM', 'url': 'https://ac.sunsin.shop/api/py/select_all'}\n",
      "{'name': 'jiwon', 'url': 'https://agecal.wodan10.shop/api/py/select_all'}\n",
      "{'name': 'heejin', 'url': 'https://age.journeyjean.shop/api/py/select_all'}\n",
      "{'name': 'hyun', 'url': 'https://agecalculator.calcalhan.store/api/py/select_all'}\n",
      "{'name': 'cho', 'url': 'https://nextjs-fastapi-starter-5j3bemub7-chominkyus-projects.vercel.app/api/py/select_all'}\n",
      "{'name': 'jacob', 'url': 'https://jacob0503.vercel.app/api/py/select_table'}\n",
      "{'name': 'nuni', 'url': 'https://ac.nunininu.shop/api/py/select_all'}\n",
      "{'name': 'lucas', 'url': 'https://ac.lucas12.store/api/py/select_all'}\n",
      "{'name': 'SEO', 'url': 'https://ac.seo-sigma.shop/api/py/select_all'}\n",
      "{'name': 'JERRY', 'url': 'https://jooon.vercel.app/api/py/select_all'}\n"
     ]
    }
   ],
   "source": [
    "for i in range(len(endpoints)):\n",
    "    print(endpoints[i])"
   ]
  },
  {
   "cell_type": "code",
   "execution_count": 76,
   "id": "5169774b-e9c9-4175-b41d-3bd90dfa3f16",
   "metadata": {},
   "outputs": [
    {
     "data": {
      "text/html": [
       "<div>\n",
       "<style scoped>\n",
       "    .dataframe tbody tr th:only-of-type {\n",
       "        vertical-align: middle;\n",
       "    }\n",
       "\n",
       "    .dataframe tbody tr th {\n",
       "        vertical-align: top;\n",
       "    }\n",
       "\n",
       "    .dataframe thead th {\n",
       "        text-align: right;\n",
       "    }\n",
       "</style>\n",
       "<table border=\"1\" class=\"dataframe\">\n",
       "  <thead>\n",
       "    <tr style=\"text-align: right;\">\n",
       "      <th></th>\n",
       "      <th>menu_name</th>\n",
       "      <th>name</th>\n",
       "      <th>dt</th>\n",
       "    </tr>\n",
       "  </thead>\n",
       "  <tbody>\n",
       "    <tr>\n",
       "      <th>0</th>\n",
       "      <td>짜장면</td>\n",
       "      <td>TOM</td>\n",
       "      <td>2025-02-03</td>\n",
       "    </tr>\n",
       "    <tr>\n",
       "      <th>1</th>\n",
       "      <td>제육볶음</td>\n",
       "      <td>nuni</td>\n",
       "      <td>2025-02-03</td>\n",
       "    </tr>\n",
       "    <tr>\n",
       "      <th>2</th>\n",
       "      <td>제육볶음</td>\n",
       "      <td>lucas</td>\n",
       "      <td>2025-02-03</td>\n",
       "    </tr>\n",
       "    <tr>\n",
       "      <th>3</th>\n",
       "      <td>샌드위치</td>\n",
       "      <td>heejin</td>\n",
       "      <td>2025-02-03</td>\n",
       "    </tr>\n",
       "    <tr>\n",
       "      <th>4</th>\n",
       "      <td>김치 찌개</td>\n",
       "      <td>jacob</td>\n",
       "      <td>2025-02-03</td>\n",
       "    </tr>\n",
       "  </tbody>\n",
       "</table>\n",
       "</div>"
      ],
      "text/plain": [
       "  menu_name    name          dt\n",
       "0       짜장면     TOM  2025-02-03\n",
       "1      제육볶음    nuni  2025-02-03\n",
       "2      제육볶음   lucas  2025-02-03\n",
       "3      샌드위치  heejin  2025-02-03\n",
       "4     김치 찌개   jacob  2025-02-03"
      ]
     },
     "execution_count": 76,
     "metadata": {},
     "output_type": "execute_result"
    }
   ],
   "source": [
    "#df_jiwon\n",
    "res = requests.get('https://agecal.wodan10.shop/api/py/select_all')\n",
    "#res.status_code\n",
    "data = res.json()\n",
    "df_jiwon = pd.DataFrame(data)\n",
    "df_jiwon.head(5)"
   ]
  },
  {
   "cell_type": "code",
   "execution_count": 77,
   "id": "467c5780",
   "metadata": {},
   "outputs": [
    {
     "data": {
      "text/html": [
       "<div>\n",
       "<style scoped>\n",
       "    .dataframe tbody tr th:only-of-type {\n",
       "        vertical-align: middle;\n",
       "    }\n",
       "\n",
       "    .dataframe tbody tr th {\n",
       "        vertical-align: top;\n",
       "    }\n",
       "\n",
       "    .dataframe thead th {\n",
       "        text-align: right;\n",
       "    }\n",
       "</style>\n",
       "<table border=\"1\" class=\"dataframe\">\n",
       "  <thead>\n",
       "    <tr style=\"text-align: right;\">\n",
       "      <th></th>\n",
       "      <th>menu_name</th>\n",
       "      <th>name</th>\n",
       "      <th>dt</th>\n",
       "    </tr>\n",
       "  </thead>\n",
       "  <tbody>\n",
       "    <tr>\n",
       "      <th>0</th>\n",
       "      <td>설렁탕</td>\n",
       "      <td>TOM</td>\n",
       "      <td>2025-02-07</td>\n",
       "    </tr>\n",
       "    <tr>\n",
       "      <th>1</th>\n",
       "      <td>설렁탕,육회비빔밥</td>\n",
       "      <td>SEO</td>\n",
       "      <td>2025-02-07</td>\n",
       "    </tr>\n",
       "    <tr>\n",
       "      <th>2</th>\n",
       "      <td>시래기찜닭, 마라로제찜닭</td>\n",
       "      <td>hyun</td>\n",
       "      <td>2025-02-07</td>\n",
       "    </tr>\n",
       "    <tr>\n",
       "      <th>3</th>\n",
       "      <td>고등어구이</td>\n",
       "      <td>JERRY</td>\n",
       "      <td>2025-02-10</td>\n",
       "    </tr>\n",
       "    <tr>\n",
       "      <th>4</th>\n",
       "      <td>제육볶음, 고등어구이</td>\n",
       "      <td>hyun</td>\n",
       "      <td>2025-02-10</td>\n",
       "    </tr>\n",
       "    <tr>\n",
       "      <th>5</th>\n",
       "      <td>순두부찌개</td>\n",
       "      <td>nuni</td>\n",
       "      <td>2025-02-11</td>\n",
       "    </tr>\n",
       "    <tr>\n",
       "      <th>6</th>\n",
       "      <td>뷔페</td>\n",
       "      <td>hyun</td>\n",
       "      <td>2025-02-11</td>\n",
       "    </tr>\n",
       "    <tr>\n",
       "      <th>7</th>\n",
       "      <td>김치찌개</td>\n",
       "      <td>nuni</td>\n",
       "      <td>2025-02-10</td>\n",
       "    </tr>\n",
       "    <tr>\n",
       "      <th>8</th>\n",
       "      <td>참치김치찌개</td>\n",
       "      <td>jacob</td>\n",
       "      <td>2025-02-11</td>\n",
       "    </tr>\n",
       "    <tr>\n",
       "      <th>9</th>\n",
       "      <td>된장찌개</td>\n",
       "      <td>jacob</td>\n",
       "      <td>2025-02-10</td>\n",
       "    </tr>\n",
       "  </tbody>\n",
       "</table>\n",
       "</div>"
      ],
      "text/plain": [
       "       menu_name   name          dt\n",
       "0            설렁탕    TOM  2025-02-07\n",
       "1      설렁탕,육회비빔밥    SEO  2025-02-07\n",
       "2  시래기찜닭, 마라로제찜닭   hyun  2025-02-07\n",
       "3          고등어구이  JERRY  2025-02-10\n",
       "4    제육볶음, 고등어구이   hyun  2025-02-10\n",
       "5          순두부찌개   nuni  2025-02-11\n",
       "6             뷔페   hyun  2025-02-11\n",
       "7           김치찌개   nuni  2025-02-10\n",
       "8         참치김치찌개  jacob  2025-02-11\n",
       "9           된장찌개  jacob  2025-02-10"
      ]
     },
     "execution_count": 77,
     "metadata": {},
     "output_type": "execute_result"
    }
   ],
   "source": [
    "#df_tom \n",
    "res = requests.get('https://ac.sunsin.shop/api/py/select_all')\n",
    "#res.status_code\n",
    "data = res.json()\n",
    "df_tom = pd.DataFrame(data)\n",
    "df_tom.head(10)"
   ]
  },
  {
   "cell_type": "code",
   "execution_count": 112,
   "id": "3ccbf815",
   "metadata": {},
   "outputs": [
    {
     "data": {
      "text/html": [
       "<div>\n",
       "<style scoped>\n",
       "    .dataframe tbody tr th:only-of-type {\n",
       "        vertical-align: middle;\n",
       "    }\n",
       "\n",
       "    .dataframe tbody tr th {\n",
       "        vertical-align: top;\n",
       "    }\n",
       "\n",
       "    .dataframe thead th {\n",
       "        text-align: right;\n",
       "    }\n",
       "</style>\n",
       "<table border=\"1\" class=\"dataframe\">\n",
       "  <thead>\n",
       "    <tr style=\"text-align: right;\">\n",
       "      <th></th>\n",
       "      <th>menu_name</th>\n",
       "      <th>name</th>\n",
       "      <th>dt</th>\n",
       "    </tr>\n",
       "  </thead>\n",
       "  <tbody>\n",
       "    <tr>\n",
       "      <th>0</th>\n",
       "      <td>베이컨토마토디럭스세트</td>\n",
       "      <td>JERRY</td>\n",
       "      <td>2025-02-06</td>\n",
       "    </tr>\n",
       "    <tr>\n",
       "      <th>1</th>\n",
       "      <td>순대국</td>\n",
       "      <td>TOM</td>\n",
       "      <td>2025-01-07</td>\n",
       "    </tr>\n",
       "    <tr>\n",
       "      <th>2</th>\n",
       "      <td>닭개장</td>\n",
       "      <td>CHO</td>\n",
       "      <td>2025-01-07</td>\n",
       "    </tr>\n",
       "    <tr>\n",
       "      <th>3</th>\n",
       "      <td>닭개장(특) , 꽈배기</td>\n",
       "      <td>HYUN</td>\n",
       "      <td>2025-01-07</td>\n",
       "    </tr>\n",
       "    <tr>\n",
       "      <th>4</th>\n",
       "      <td>닭개장</td>\n",
       "      <td>JERRY</td>\n",
       "      <td>2025-01-07</td>\n",
       "    </tr>\n",
       "    <tr>\n",
       "      <th>5</th>\n",
       "      <td>볶음밥</td>\n",
       "      <td>SEO</td>\n",
       "      <td>2025-01-07</td>\n",
       "    </tr>\n",
       "    <tr>\n",
       "      <th>6</th>\n",
       "      <td>닭개장</td>\n",
       "      <td>JIWON</td>\n",
       "      <td>2025-01-07</td>\n",
       "    </tr>\n",
       "    <tr>\n",
       "      <th>7</th>\n",
       "      <td>자장면</td>\n",
       "      <td>JACOB</td>\n",
       "      <td>2025-01-07</td>\n",
       "    </tr>\n",
       "    <tr>\n",
       "      <th>8</th>\n",
       "      <td>덮밥</td>\n",
       "      <td>HEEJIN</td>\n",
       "      <td>2025-01-07</td>\n",
       "    </tr>\n",
       "    <tr>\n",
       "      <th>9</th>\n",
       "      <td>볶음밥</td>\n",
       "      <td>LUCAS</td>\n",
       "      <td>2025-01-07</td>\n",
       "    </tr>\n",
       "  </tbody>\n",
       "</table>\n",
       "</div>"
      ],
      "text/plain": [
       "      menu_name    name          dt\n",
       "0   베이컨토마토디럭스세트   JERRY  2025-02-06\n",
       "1           순대국     TOM  2025-01-07\n",
       "2           닭개장     CHO  2025-01-07\n",
       "3  닭개장(특) , 꽈배기    HYUN  2025-01-07\n",
       "4           닭개장   JERRY  2025-01-07\n",
       "5           볶음밥     SEO  2025-01-07\n",
       "6           닭개장   JIWON  2025-01-07\n",
       "7           자장면   JACOB  2025-01-07\n",
       "8            덮밥  HEEJIN  2025-01-07\n",
       "9           볶음밥   LUCAS  2025-01-07"
      ]
     },
     "execution_count": 112,
     "metadata": {},
     "output_type": "execute_result"
    }
   ],
   "source": [
    "#df_jerry\n",
    "res = requests.get('https://jooon.vercel.app/api/py/select_all')\n",
    "#res.status_code\n",
    "data = res.json()\n",
    "df_JERRY = pd.DataFrame(data)\n",
    "df_JERRY.head(10)"
   ]
  },
  {
   "cell_type": "code",
   "execution_count": 78,
   "id": "daae8042-5a1e-4e65-8e49-e401e308d356",
   "metadata": {},
   "outputs": [
    {
     "data": {
      "text/html": [
       "<div>\n",
       "<style scoped>\n",
       "    .dataframe tbody tr th:only-of-type {\n",
       "        vertical-align: middle;\n",
       "    }\n",
       "\n",
       "    .dataframe tbody tr th {\n",
       "        vertical-align: top;\n",
       "    }\n",
       "\n",
       "    .dataframe thead th {\n",
       "        text-align: right;\n",
       "    }\n",
       "</style>\n",
       "<table border=\"1\" class=\"dataframe\">\n",
       "  <thead>\n",
       "    <tr style=\"text-align: right;\">\n",
       "      <th></th>\n",
       "      <th>menu_name</th>\n",
       "      <th>name</th>\n",
       "      <th>dt</th>\n",
       "    </tr>\n",
       "  </thead>\n",
       "  <tbody>\n",
       "    <tr>\n",
       "      <th>0</th>\n",
       "      <td>설렁탕</td>\n",
       "      <td>TOM</td>\n",
       "      <td>2025-02-07</td>\n",
       "    </tr>\n",
       "    <tr>\n",
       "      <th>1</th>\n",
       "      <td>설렁탕,육회비빔밥</td>\n",
       "      <td>SEO</td>\n",
       "      <td>2025-02-07</td>\n",
       "    </tr>\n",
       "    <tr>\n",
       "      <th>2</th>\n",
       "      <td>시래기찜닭, 마라로제찜닭</td>\n",
       "      <td>hyun</td>\n",
       "      <td>2025-02-07</td>\n",
       "    </tr>\n",
       "    <tr>\n",
       "      <th>3</th>\n",
       "      <td>고등어구이</td>\n",
       "      <td>JERRY</td>\n",
       "      <td>2025-02-10</td>\n",
       "    </tr>\n",
       "    <tr>\n",
       "      <th>4</th>\n",
       "      <td>제육볶음, 고등어구이</td>\n",
       "      <td>hyun</td>\n",
       "      <td>2025-02-10</td>\n",
       "    </tr>\n",
       "    <tr>\n",
       "      <th>5</th>\n",
       "      <td>순두부찌개</td>\n",
       "      <td>nuni</td>\n",
       "      <td>2025-02-11</td>\n",
       "    </tr>\n",
       "    <tr>\n",
       "      <th>6</th>\n",
       "      <td>뷔페</td>\n",
       "      <td>hyun</td>\n",
       "      <td>2025-02-11</td>\n",
       "    </tr>\n",
       "    <tr>\n",
       "      <th>7</th>\n",
       "      <td>김치찌개</td>\n",
       "      <td>nuni</td>\n",
       "      <td>2025-02-10</td>\n",
       "    </tr>\n",
       "    <tr>\n",
       "      <th>8</th>\n",
       "      <td>참치김치찌개</td>\n",
       "      <td>jacob</td>\n",
       "      <td>2025-02-11</td>\n",
       "    </tr>\n",
       "    <tr>\n",
       "      <th>9</th>\n",
       "      <td>된장찌개</td>\n",
       "      <td>jacob</td>\n",
       "      <td>2025-02-10</td>\n",
       "    </tr>\n",
       "  </tbody>\n",
       "</table>\n",
       "</div>"
      ],
      "text/plain": [
       "       menu_name   name          dt\n",
       "0            설렁탕    TOM  2025-02-07\n",
       "1      설렁탕,육회비빔밥    SEO  2025-02-07\n",
       "2  시래기찜닭, 마라로제찜닭   hyun  2025-02-07\n",
       "3          고등어구이  JERRY  2025-02-10\n",
       "4    제육볶음, 고등어구이   hyun  2025-02-10\n",
       "5          순두부찌개   nuni  2025-02-11\n",
       "6             뷔페   hyun  2025-02-11\n",
       "7           김치찌개   nuni  2025-02-10\n",
       "8         참치김치찌개  jacob  2025-02-11\n",
       "9           된장찌개  jacob  2025-02-10"
      ]
     },
     "execution_count": 78,
     "metadata": {},
     "output_type": "execute_result"
    }
   ],
   "source": [
    "from pandasql import sqldf\n",
    "\n",
    "query = \"\"\"\n",
    "SELECT df_tom.menu_name, df_tom.name, df_tom.dt\n",
    "FROM df_tom\n",
    "LEFT JOIN df_jiwon\n",
    "ON df_tom.menu_name = df_jiwon.menu_name \n",
    "AND df_tom.name = df_jiwon.name \n",
    "AND df_tom.dt = df_jiwon.dt\n",
    "WHERE df_jiwon.menu_name IS NULL\n",
    "\"\"\"\n",
    "\n",
    "pysqldf = lambda q: sqldf(q, globals())\n",
    "\n",
    "def pysqldf(q):\n",
    "    sqldf(q, locals())\n",
    "\n",
    "df_diff_1 = sqldf(query, locals()) \n",
    "df_diff_1"
   ]
  },
  {
   "cell_type": "code",
   "execution_count": 79,
   "id": "3ff93caa-368d-474f-a94f-5bbf7ba48c21",
   "metadata": {},
   "outputs": [
    {
     "data": {
      "text/html": [
       "<div>\n",
       "<style scoped>\n",
       "    .dataframe tbody tr th:only-of-type {\n",
       "        vertical-align: middle;\n",
       "    }\n",
       "\n",
       "    .dataframe tbody tr th {\n",
       "        vertical-align: top;\n",
       "    }\n",
       "\n",
       "    .dataframe thead th {\n",
       "        text-align: right;\n",
       "    }\n",
       "</style>\n",
       "<table border=\"1\" class=\"dataframe\">\n",
       "  <thead>\n",
       "    <tr style=\"text-align: right;\">\n",
       "      <th></th>\n",
       "      <th>menu_name</th>\n",
       "      <th>name</th>\n",
       "      <th>dt</th>\n",
       "    </tr>\n",
       "  </thead>\n",
       "  <tbody>\n",
       "    <tr>\n",
       "      <th>0</th>\n",
       "      <td>설렁탕</td>\n",
       "      <td>TOM</td>\n",
       "      <td>2025-02-07</td>\n",
       "    </tr>\n",
       "    <tr>\n",
       "      <th>1</th>\n",
       "      <td>설렁탕,육회비빔밥</td>\n",
       "      <td>SEO</td>\n",
       "      <td>2025-02-07</td>\n",
       "    </tr>\n",
       "    <tr>\n",
       "      <th>2</th>\n",
       "      <td>시래기찜닭, 마라로제찜닭</td>\n",
       "      <td>hyun</td>\n",
       "      <td>2025-02-07</td>\n",
       "    </tr>\n",
       "    <tr>\n",
       "      <th>3</th>\n",
       "      <td>고등어구이</td>\n",
       "      <td>JERRY</td>\n",
       "      <td>2025-02-10</td>\n",
       "    </tr>\n",
       "    <tr>\n",
       "      <th>4</th>\n",
       "      <td>제육볶음, 고등어구이</td>\n",
       "      <td>hyun</td>\n",
       "      <td>2025-02-10</td>\n",
       "    </tr>\n",
       "    <tr>\n",
       "      <th>5</th>\n",
       "      <td>순두부찌개</td>\n",
       "      <td>nuni</td>\n",
       "      <td>2025-02-11</td>\n",
       "    </tr>\n",
       "    <tr>\n",
       "      <th>6</th>\n",
       "      <td>뷔페</td>\n",
       "      <td>hyun</td>\n",
       "      <td>2025-02-11</td>\n",
       "    </tr>\n",
       "    <tr>\n",
       "      <th>7</th>\n",
       "      <td>김치찌개</td>\n",
       "      <td>nuni</td>\n",
       "      <td>2025-02-10</td>\n",
       "    </tr>\n",
       "    <tr>\n",
       "      <th>8</th>\n",
       "      <td>참치김치찌개</td>\n",
       "      <td>jacob</td>\n",
       "      <td>2025-02-11</td>\n",
       "    </tr>\n",
       "    <tr>\n",
       "      <th>9</th>\n",
       "      <td>된장찌개</td>\n",
       "      <td>jacob</td>\n",
       "      <td>2025-02-10</td>\n",
       "    </tr>\n",
       "  </tbody>\n",
       "</table>\n",
       "</div>"
      ],
      "text/plain": [
       "       menu_name   name          dt\n",
       "0            설렁탕    TOM  2025-02-07\n",
       "1      설렁탕,육회비빔밥    SEO  2025-02-07\n",
       "2  시래기찜닭, 마라로제찜닭   hyun  2025-02-07\n",
       "3          고등어구이  JERRY  2025-02-10\n",
       "4    제육볶음, 고등어구이   hyun  2025-02-10\n",
       "5          순두부찌개   nuni  2025-02-11\n",
       "6             뷔페   hyun  2025-02-11\n",
       "7           김치찌개   nuni  2025-02-10\n",
       "8         참치김치찌개  jacob  2025-02-11\n",
       "9           된장찌개  jacob  2025-02-10"
      ]
     },
     "execution_count": 79,
     "metadata": {},
     "output_type": "execute_result"
    }
   ],
   "source": [
    "# 나의 df에 없는 row를 찾아서 새로운 데이터 프레임으로 만들기\n",
    "\n",
    "new_rows = []\n",
    "\n",
    "for _, row in df_tom.iterrows():\n",
    "    is_match_row = False\n",
    "    for _, row2 in df_jiwon.iterrows():\n",
    "        is_match_columns = True\n",
    "        for col in df_jiwon.columns:\n",
    "            if row[col] != row2[col]:\n",
    "                is_match_columns = False\n",
    "                break\n",
    "        if is_match_columns:\n",
    "            is_match_row = True\n",
    "            break  # 더 이상 df1에서 비교할 필요 없음\n",
    "    \n",
    "    if not is_match_row:\n",
    "        new_rows.append(row)\n",
    "        \n",
    "df_new = pd.DataFrame(new_rows)\n",
    "df_new\n",
    "\n"
   ]
  },
  {
   "cell_type": "code",
   "execution_count": 123,
   "id": "0bb75ede-b5c6-469d-832e-bcee83b8dabc",
   "metadata": {},
   "outputs": [
    {
     "data": {
      "text/html": [
       "<div>\n",
       "<style scoped>\n",
       "    .dataframe tbody tr th:only-of-type {\n",
       "        vertical-align: middle;\n",
       "    }\n",
       "\n",
       "    .dataframe tbody tr th {\n",
       "        vertical-align: top;\n",
       "    }\n",
       "\n",
       "    .dataframe thead th {\n",
       "        text-align: right;\n",
       "    }\n",
       "</style>\n",
       "<table border=\"1\" class=\"dataframe\">\n",
       "  <thead>\n",
       "    <tr style=\"text-align: right;\">\n",
       "      <th></th>\n",
       "      <th>menu_name</th>\n",
       "      <th>name</th>\n",
       "      <th>dt</th>\n",
       "    </tr>\n",
       "  </thead>\n",
       "  <tbody>\n",
       "    <tr>\n",
       "      <th>0</th>\n",
       "      <td>베이컨토마토디럭스세트</td>\n",
       "      <td>JERRY</td>\n",
       "      <td>2025-02-06</td>\n",
       "    </tr>\n",
       "    <tr>\n",
       "      <th>2</th>\n",
       "      <td>닭개장</td>\n",
       "      <td>CHO</td>\n",
       "      <td>2025-01-07</td>\n",
       "    </tr>\n",
       "    <tr>\n",
       "      <th>3</th>\n",
       "      <td>닭개장(특) , 꽈배기</td>\n",
       "      <td>HYUN</td>\n",
       "      <td>2025-01-07</td>\n",
       "    </tr>\n",
       "    <tr>\n",
       "      <th>6</th>\n",
       "      <td>닭개장</td>\n",
       "      <td>JIWON</td>\n",
       "      <td>2025-01-07</td>\n",
       "    </tr>\n",
       "    <tr>\n",
       "      <th>7</th>\n",
       "      <td>자장면</td>\n",
       "      <td>JACOB</td>\n",
       "      <td>2025-01-07</td>\n",
       "    </tr>\n",
       "    <tr>\n",
       "      <th>...</th>\n",
       "      <td>...</td>\n",
       "      <td>...</td>\n",
       "      <td>...</td>\n",
       "    </tr>\n",
       "    <tr>\n",
       "      <th>140</th>\n",
       "      <td>김치 찌개</td>\n",
       "      <td>JACOB</td>\n",
       "      <td>2025-02-03</td>\n",
       "    </tr>\n",
       "    <tr>\n",
       "      <th>141</th>\n",
       "      <td>샌드위치</td>\n",
       "      <td>HEEJIN</td>\n",
       "      <td>2025-02-03</td>\n",
       "    </tr>\n",
       "    <tr>\n",
       "      <th>142</th>\n",
       "      <td>제육볶음</td>\n",
       "      <td>LUCAS</td>\n",
       "      <td>2025-02-03</td>\n",
       "    </tr>\n",
       "    <tr>\n",
       "      <th>143</th>\n",
       "      <td>제육볶음</td>\n",
       "      <td>NUNI</td>\n",
       "      <td>2025-02-03</td>\n",
       "    </tr>\n",
       "    <tr>\n",
       "      <th>144</th>\n",
       "      <td>라면</td>\n",
       "      <td>JERRY</td>\n",
       "      <td>2025-02-09</td>\n",
       "    </tr>\n",
       "  </tbody>\n",
       "</table>\n",
       "<p>103 rows × 3 columns</p>\n",
       "</div>"
      ],
      "text/plain": [
       "        menu_name    name          dt\n",
       "0     베이컨토마토디럭스세트   JERRY  2025-02-06\n",
       "2             닭개장     CHO  2025-01-07\n",
       "3    닭개장(특) , 꽈배기    HYUN  2025-01-07\n",
       "6             닭개장   JIWON  2025-01-07\n",
       "7             자장면   JACOB  2025-01-07\n",
       "..            ...     ...         ...\n",
       "140         김치 찌개   JACOB  2025-02-03\n",
       "141          샌드위치  HEEJIN  2025-02-03\n",
       "142          제육볶음   LUCAS  2025-02-03\n",
       "143          제육볶음    NUNI  2025-02-03\n",
       "144            라면   JERRY  2025-02-09\n",
       "\n",
       "[103 rows x 3 columns]"
      ]
     },
     "execution_count": 123,
     "metadata": {},
     "output_type": "execute_result"
    }
   ],
   "source": [
    "# 나의 df에 없는 row를 찾아서 새로운 데이터 프레임으로 만들기\n",
    "\n",
    "new_rows = []\n",
    "\n",
    "for _, row2 in df_JERRY.iterrows():\n",
    "    is_match_row = False\n",
    "    for _, row1 in df_jiwon.iterrows():\n",
    "        is_match_columns = True\n",
    "        for col in df_jiwon.columns:\n",
    "            if row2[col] != row1[col]:\n",
    "                is_match_columns = False\n",
    "                break\n",
    "        if is_match_columns:\n",
    "            is_match_row = True\n",
    "            break  # 더 이상 df1에서 비교할 필요 없음\n",
    "    \n",
    "    if not is_match_row:\n",
    "        new_rows.append(row2)\n",
    "        \n",
    "df_new = pd.DataFrame(new_rows)\n",
    "df_new"
   ]
  },
  {
   "cell_type": "markdown",
   "id": "0af4c8f7-564b-475b-bdfe-081f08f158b4",
   "metadata": {},
   "source": [
    "### 나의 df에 없는 row를 찾아서 새로운 데이터 프레임으로 만들기\n",
    "-> pandasql을 이용하는 방법"
   ]
  },
  {
   "cell_type": "code",
   "execution_count": 25,
   "id": "f905c14e-6851-4b35-81ab-f158b78a4298",
   "metadata": {},
   "outputs": [],
   "source": [
    "df1 = pd.DataFrame({\"id\": [1, 2, 3], \"name\": [\"KIM\", \"MIN\", \"LEE\"]})\n",
    "df2 = pd.DataFrame({\"id\": [2, 3, 4], \"name\": [\"MIN\", \"LEE\", \"PARK\"]})"
   ]
  },
  {
   "cell_type": "code",
   "execution_count": 47,
   "id": "f0070c0c-4ea9-4f7b-8f87-5904bb37ca45",
   "metadata": {},
   "outputs": [],
   "source": [
    "df1 = pd.DataFrame({\"id\": [1, 2, 3], \"name\": [\"KIM\", \"MIN\", \"LEE\"]})\n",
    "df2 = pd.DataFrame({\"id\": [2, 3, 4, 5], \"name\": [\"MIN\", \"LEE\", \"PARK\", \"TOM\"]})\n",
    "df3 = pd.DataFrame({\"id\": [5, 4, 2, 3], \"name\": [\"TOM\", \"PARK\",\"MIN\", \"LEE\"]})"
   ]
  },
  {
   "cell_type": "code",
   "execution_count": 57,
   "id": "0431c02e-f5ef-4c59-92c6-83d74987a9ad",
   "metadata": {},
   "outputs": [
    {
     "data": {
      "text/html": [
       "<div>\n",
       "<style scoped>\n",
       "    .dataframe tbody tr th:only-of-type {\n",
       "        vertical-align: middle;\n",
       "    }\n",
       "\n",
       "    .dataframe tbody tr th {\n",
       "        vertical-align: top;\n",
       "    }\n",
       "\n",
       "    .dataframe thead th {\n",
       "        text-align: right;\n",
       "    }\n",
       "</style>\n",
       "<table border=\"1\" class=\"dataframe\">\n",
       "  <thead>\n",
       "    <tr style=\"text-align: right;\">\n",
       "      <th></th>\n",
       "      <th>id</th>\n",
       "      <th>name</th>\n",
       "    </tr>\n",
       "  </thead>\n",
       "  <tbody>\n",
       "    <tr>\n",
       "      <th>0</th>\n",
       "      <td>4</td>\n",
       "      <td>PARK</td>\n",
       "    </tr>\n",
       "    <tr>\n",
       "      <th>1</th>\n",
       "      <td>5</td>\n",
       "      <td>TOM</td>\n",
       "    </tr>\n",
       "  </tbody>\n",
       "</table>\n",
       "</div>"
      ],
      "text/plain": [
       "   id  name\n",
       "0   4  PARK\n",
       "1   5   TOM"
      ]
     },
     "execution_count": 57,
     "metadata": {},
     "output_type": "execute_result"
    }
   ],
   "source": [
    "from pandasql import sqldf\n",
    "query = \"\"\"\n",
    "SELECT df2.id, df2.name\n",
    "FROM df2\n",
    "LEFT JOIN df1\n",
    "ON df2.id = df1.id AND df2.name = df1.name\n",
    "WHERE df1.id IS NULL\n",
    "\"\"\"\n",
    "\n",
    "#pysqldf = lambda q: sqldf(q, globals())\n",
    "\n",
    "def pysqldf(q):\n",
    "    sqldf(q, locals())\n",
    "\n",
    "df_diff_1 = sqldf(query, locals()) \n",
    "df_diff_1"
   ]
  },
  {
   "cell_type": "markdown",
   "id": "96d676d8-e49c-4615-ac14-57f43786321c",
   "metadata": {},
   "source": [
    "### 나의 df에 없는 row를 찾아서 새로운 데이터 프레임으로 만들기\n",
    "-> for 문을 이용하는 방법"
   ]
  },
  {
   "cell_type": "code",
   "execution_count": 49,
   "id": "9fd4b717-672a-41f9-80f3-81c1f7f27d70",
   "metadata": {},
   "outputs": [
    {
     "data": {
      "text/html": [
       "<div>\n",
       "<style scoped>\n",
       "    .dataframe tbody tr th:only-of-type {\n",
       "        vertical-align: middle;\n",
       "    }\n",
       "\n",
       "    .dataframe tbody tr th {\n",
       "        vertical-align: top;\n",
       "    }\n",
       "\n",
       "    .dataframe thead th {\n",
       "        text-align: right;\n",
       "    }\n",
       "</style>\n",
       "<table border=\"1\" class=\"dataframe\">\n",
       "  <thead>\n",
       "    <tr style=\"text-align: right;\">\n",
       "      <th></th>\n",
       "      <th>id</th>\n",
       "      <th>name</th>\n",
       "    </tr>\n",
       "  </thead>\n",
       "  <tbody>\n",
       "    <tr>\n",
       "      <th>2</th>\n",
       "      <td>4</td>\n",
       "      <td>PARK</td>\n",
       "    </tr>\n",
       "    <tr>\n",
       "      <th>3</th>\n",
       "      <td>5</td>\n",
       "      <td>TOM</td>\n",
       "    </tr>\n",
       "  </tbody>\n",
       "</table>\n",
       "</div>"
      ],
      "text/plain": [
       "   id  name\n",
       "2   4  PARK\n",
       "3   5   TOM"
      ]
     },
     "execution_count": 49,
     "metadata": {},
     "output_type": "execute_result"
    }
   ],
   "source": [
    "new_rows = []\n",
    "\n",
    "for _, row2 in df2.iterrows():\n",
    "    is_match_row = False\n",
    "    for _, row1 in df1.iterrows():\n",
    "        is_match_columns = True\n",
    "        for col in df1.columns:\n",
    "            if row2[col] != row1[col]:\n",
    "                is_match_columns = False\n",
    "                break\n",
    "        if is_match_columns:\n",
    "            is_match_row = True\n",
    "            break  # 더 이상 df1에서 비교할 필요 없음\n",
    "            \n",
    "    if not is_match_row:\n",
    "        new_rows.append(row2)\n",
    "        \n",
    "df_diff_2 = pd.DataFrame(new_rows)\n",
    "df_diff_2"
   ]
  },
  {
   "cell_type": "markdown",
   "id": "ee33f659-92d5-438c-a4ba-77d6c8053dc0",
   "metadata": {},
   "source": [
    "### 나의 df에 없는 row를 찾아서 새로운 데이터 프레임으로 만들기\n",
    "-> pandas merge를 이용하는 방법"
   ]
  },
  {
   "cell_type": "code",
   "execution_count": 50,
   "id": "3fc983bd-eeef-4854-822a-a2ccf50c4676",
   "metadata": {},
   "outputs": [],
   "source": [
    "merge_df = pd.merge(df1, df2, how='right', indicator=True)"
   ]
  },
  {
   "cell_type": "code",
   "execution_count": 51,
   "id": "066c1db6-8a86-45d3-88ac-50b533a91c46",
   "metadata": {},
   "outputs": [
    {
     "data": {
      "text/html": [
       "<div>\n",
       "<style scoped>\n",
       "    .dataframe tbody tr th:only-of-type {\n",
       "        vertical-align: middle;\n",
       "    }\n",
       "\n",
       "    .dataframe tbody tr th {\n",
       "        vertical-align: top;\n",
       "    }\n",
       "\n",
       "    .dataframe thead th {\n",
       "        text-align: right;\n",
       "    }\n",
       "</style>\n",
       "<table border=\"1\" class=\"dataframe\">\n",
       "  <thead>\n",
       "    <tr style=\"text-align: right;\">\n",
       "      <th></th>\n",
       "      <th>id</th>\n",
       "      <th>name</th>\n",
       "      <th>_merge</th>\n",
       "    </tr>\n",
       "  </thead>\n",
       "  <tbody>\n",
       "    <tr>\n",
       "      <th>0</th>\n",
       "      <td>2</td>\n",
       "      <td>MIN</td>\n",
       "      <td>both</td>\n",
       "    </tr>\n",
       "    <tr>\n",
       "      <th>1</th>\n",
       "      <td>3</td>\n",
       "      <td>LEE</td>\n",
       "      <td>both</td>\n",
       "    </tr>\n",
       "    <tr>\n",
       "      <th>2</th>\n",
       "      <td>4</td>\n",
       "      <td>PARK</td>\n",
       "      <td>right_only</td>\n",
       "    </tr>\n",
       "    <tr>\n",
       "      <th>3</th>\n",
       "      <td>5</td>\n",
       "      <td>TOM</td>\n",
       "      <td>right_only</td>\n",
       "    </tr>\n",
       "  </tbody>\n",
       "</table>\n",
       "</div>"
      ],
      "text/plain": [
       "   id  name      _merge\n",
       "0   2   MIN        both\n",
       "1   3   LEE        both\n",
       "2   4  PARK  right_only\n",
       "3   5   TOM  right_only"
      ]
     },
     "execution_count": 51,
     "metadata": {},
     "output_type": "execute_result"
    }
   ],
   "source": [
    "merge_df"
   ]
  },
  {
   "cell_type": "code",
   "execution_count": 52,
   "id": "b9d884e8-f36b-482e-bca2-0eb2ad2d5e28",
   "metadata": {},
   "outputs": [
    {
     "data": {
      "text/html": [
       "<div>\n",
       "<style scoped>\n",
       "    .dataframe tbody tr th:only-of-type {\n",
       "        vertical-align: middle;\n",
       "    }\n",
       "\n",
       "    .dataframe tbody tr th {\n",
       "        vertical-align: top;\n",
       "    }\n",
       "\n",
       "    .dataframe thead th {\n",
       "        text-align: right;\n",
       "    }\n",
       "</style>\n",
       "<table border=\"1\" class=\"dataframe\">\n",
       "  <thead>\n",
       "    <tr style=\"text-align: right;\">\n",
       "      <th></th>\n",
       "      <th>id</th>\n",
       "      <th>name</th>\n",
       "    </tr>\n",
       "  </thead>\n",
       "  <tbody>\n",
       "    <tr>\n",
       "      <th>2</th>\n",
       "      <td>4</td>\n",
       "      <td>PARK</td>\n",
       "    </tr>\n",
       "    <tr>\n",
       "      <th>3</th>\n",
       "      <td>5</td>\n",
       "      <td>TOM</td>\n",
       "    </tr>\n",
       "  </tbody>\n",
       "</table>\n",
       "</div>"
      ],
      "text/plain": [
       "   id  name\n",
       "2   4  PARK\n",
       "3   5   TOM"
      ]
     },
     "execution_count": 52,
     "metadata": {},
     "output_type": "execute_result"
    }
   ],
   "source": [
    "# _merge가 right_only 인것만 남기고 _merge column은 지우기\n",
    "\n",
    "df_diff_3 = merge_df[merge_df['_merge'] == 'right_only'].drop('_merge',axis=1)\n",
    "df_diff_3"
   ]
  },
  {
   "cell_type": "code",
   "execution_count": 53,
   "id": "cf7f9538-7369-4928-9946-d756ff95b691",
   "metadata": {},
   "outputs": [],
   "source": [
    "## TODO\n",
    "#df_diff_1, df_diff_2, df_diff_3 의 결과가 같은지 비교\n",
    "#df_diff_1 == df_diff_2 == df_diff_3"
   ]
  },
  {
   "cell_type": "code",
   "execution_count": 54,
   "id": "16b90390-a922-46e4-b0a9-fe8f8ae481cc",
   "metadata": {},
   "outputs": [
    {
     "data": {
      "text/plain": [
       "False"
      ]
     },
     "execution_count": 54,
     "metadata": {},
     "output_type": "execute_result"
    }
   ],
   "source": [
    "df_diff_1.equals(df_diff_2)"
   ]
  },
  {
   "cell_type": "code",
   "execution_count": 55,
   "id": "d1468f93-2960-4cb6-a5ea-08989d694419",
   "metadata": {},
   "outputs": [
    {
     "data": {
      "text/plain": [
       "True"
      ]
     },
     "execution_count": 55,
     "metadata": {},
     "output_type": "execute_result"
    }
   ],
   "source": [
    "df_diff_1.reset_index(drop=True).equals(df_diff_3.reset_index(drop=True))"
   ]
  },
  {
   "cell_type": "code",
   "execution_count": 56,
   "id": "57b7de54-db98-4ebb-84d7-f16f765172de",
   "metadata": {},
   "outputs": [
    {
     "data": {
      "text/plain": [
       "True"
      ]
     },
     "execution_count": 56,
     "metadata": {},
     "output_type": "execute_result"
    }
   ],
   "source": [
    "df_diff_2.equals(df_diff_2)"
   ]
  },
  {
   "cell_type": "code",
   "execution_count": null,
   "id": "09f6948a-5803-43fa-97bd-1965385dde94",
   "metadata": {},
   "outputs": [],
   "source": []
  }
 ],
 "metadata": {
  "kernelspec": {
   "display_name": "Python 3 (ipykernel)",
   "language": "python",
   "name": "python3"
  },
  "language_info": {
   "codemirror_mode": {
    "name": "ipython",
    "version": 3
   },
   "file_extension": ".py",
   "mimetype": "text/x-python",
   "name": "python",
   "nbconvert_exporter": "python",
   "pygments_lexer": "ipython3",
   "version": "3.10.12"
  }
 },
 "nbformat": 4,
 "nbformat_minor": 5
}
